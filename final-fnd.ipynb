{
 "cells": [
  {
   "cell_type": "code",
   "execution_count": 2,
   "metadata": {
    "execution": {
     "iopub.execute_input": "2021-05-25T06:50:29.636394Z",
     "iopub.status.busy": "2021-05-25T06:50:29.636041Z",
     "iopub.status.idle": "2021-05-25T06:50:29.643277Z",
     "shell.execute_reply": "2021-05-25T06:50:29.642127Z",
     "shell.execute_reply.started": "2021-05-25T06:50:29.636365Z"
    }
   },
   "outputs": [],
   "source": [
    "import pandas as pd\n",
    "import sklearn\n",
    "import itertools\n",
    "import numpy as np\n",
    "import seaborn as sb\n",
    "import re\n",
    "import nltk\n",
    "import pickle\n",
    "from sklearn.model_selection import train_test_split\n",
    "from sklearn.feature_extraction.text import TfidfVectorizer\n",
    "from sklearn import metrics\n",
    "from sklearn.metrics import confusion_matrix\n",
    "from matplotlib import pyplot as plt\n",
    "from sklearn.linear_model import PassiveAggressiveClassifier\n",
    "from nltk.stem import WordNetLemmatizer\n",
    "from nltk.corpus import stopwords"
   ]
  },
  {
   "cell_type": "code",
   "execution_count": 3,
   "metadata": {
    "execution": {
     "iopub.execute_input": "2021-05-25T06:50:29.656569Z",
     "iopub.status.busy": "2021-05-25T06:50:29.656203Z",
     "iopub.status.idle": "2021-05-25T06:50:32.048864Z",
     "shell.execute_reply": "2021-05-25T06:50:32.047882Z",
     "shell.execute_reply.started": "2021-05-25T06:50:29.65654Z"
    }
   },
   "outputs": [],
   "source": [
    "train_df = pd.read_csv(r'train.csv')\n",
    "# C:\\Users\\Fanuel Mulyadi\\Fake_News_Detection\\train.csv"
   ]
  },
  {
   "cell_type": "code",
   "execution_count": 4,
   "metadata": {
    "execution": {
     "iopub.execute_input": "2021-05-25T06:50:32.05136Z",
     "iopub.status.busy": "2021-05-25T06:50:32.051032Z",
     "iopub.status.idle": "2021-05-25T06:50:32.089516Z",
     "shell.execute_reply": "2021-05-25T06:50:32.088399Z",
     "shell.execute_reply.started": "2021-05-25T06:50:32.051329Z"
    }
   },
   "outputs": [
    {
     "data": {
      "text/html": [
       "<div>\n",
       "<style scoped>\n",
       "    .dataframe tbody tr th:only-of-type {\n",
       "        vertical-align: middle;\n",
       "    }\n",
       "\n",
       "    .dataframe tbody tr th {\n",
       "        vertical-align: top;\n",
       "    }\n",
       "\n",
       "    .dataframe thead th {\n",
       "        text-align: right;\n",
       "    }\n",
       "</style>\n",
       "<table border=\"1\" class=\"dataframe\">\n",
       "  <thead>\n",
       "    <tr style=\"text-align: right;\">\n",
       "      <th></th>\n",
       "      <th>Statement</th>\n",
       "      <th>Label</th>\n",
       "    </tr>\n",
       "  </thead>\n",
       "  <tbody>\n",
       "    <tr>\n",
       "      <th>0</th>\n",
       "      <td>Says the Annies List political group supports ...</td>\n",
       "      <td>False</td>\n",
       "    </tr>\n",
       "    <tr>\n",
       "      <th>1</th>\n",
       "      <td>When did the decline of coal start? It started...</td>\n",
       "      <td>True</td>\n",
       "    </tr>\n",
       "    <tr>\n",
       "      <th>2</th>\n",
       "      <td>Hillary Clinton agrees with John McCain \"by vo...</td>\n",
       "      <td>True</td>\n",
       "    </tr>\n",
       "    <tr>\n",
       "      <th>3</th>\n",
       "      <td>Health care reform legislation is likely to ma...</td>\n",
       "      <td>False</td>\n",
       "    </tr>\n",
       "    <tr>\n",
       "      <th>4</th>\n",
       "      <td>The economic turnaround started at the end of ...</td>\n",
       "      <td>True</td>\n",
       "    </tr>\n",
       "    <tr>\n",
       "      <th>5</th>\n",
       "      <td>The Chicago Bears have had more starting quart...</td>\n",
       "      <td>True</td>\n",
       "    </tr>\n",
       "    <tr>\n",
       "      <th>6</th>\n",
       "      <td>Jim Dunnam has not lived in the district he re...</td>\n",
       "      <td>False</td>\n",
       "    </tr>\n",
       "    <tr>\n",
       "      <th>7</th>\n",
       "      <td>I'm the only person on this stage who has work...</td>\n",
       "      <td>True</td>\n",
       "    </tr>\n",
       "    <tr>\n",
       "      <th>8</th>\n",
       "      <td>However, it took $19.5 million in Oregon Lotte...</td>\n",
       "      <td>True</td>\n",
       "    </tr>\n",
       "    <tr>\n",
       "      <th>9</th>\n",
       "      <td>Says GOP primary opponents Glenn Grothman and ...</td>\n",
       "      <td>True</td>\n",
       "    </tr>\n",
       "    <tr>\n",
       "      <th>10</th>\n",
       "      <td>For the first time in history, the share of th...</td>\n",
       "      <td>True</td>\n",
       "    </tr>\n",
       "    <tr>\n",
       "      <th>11</th>\n",
       "      <td>Since 2000, nearly 12 million Americans have s...</td>\n",
       "      <td>True</td>\n",
       "    </tr>\n",
       "    <tr>\n",
       "      <th>12</th>\n",
       "      <td>When Mitt Romney was governor of Massachusetts...</td>\n",
       "      <td>False</td>\n",
       "    </tr>\n",
       "    <tr>\n",
       "      <th>13</th>\n",
       "      <td>The economy bled $24 billion due to the govern...</td>\n",
       "      <td>True</td>\n",
       "    </tr>\n",
       "    <tr>\n",
       "      <th>14</th>\n",
       "      <td>Most of the (Affordable Care Act) has already ...</td>\n",
       "      <td>False</td>\n",
       "    </tr>\n",
       "  </tbody>\n",
       "</table>\n",
       "</div>"
      ],
      "text/plain": [
       "                                            Statement  Label\n",
       "0   Says the Annies List political group supports ...  False\n",
       "1   When did the decline of coal start? It started...   True\n",
       "2   Hillary Clinton agrees with John McCain \"by vo...   True\n",
       "3   Health care reform legislation is likely to ma...  False\n",
       "4   The economic turnaround started at the end of ...   True\n",
       "5   The Chicago Bears have had more starting quart...   True\n",
       "6   Jim Dunnam has not lived in the district he re...  False\n",
       "7   I'm the only person on this stage who has work...   True\n",
       "8   However, it took $19.5 million in Oregon Lotte...   True\n",
       "9   Says GOP primary opponents Glenn Grothman and ...   True\n",
       "10  For the first time in history, the share of th...   True\n",
       "11  Since 2000, nearly 12 million Americans have s...   True\n",
       "12  When Mitt Romney was governor of Massachusetts...  False\n",
       "13  The economy bled $24 billion due to the govern...   True\n",
       "14  Most of the (Affordable Care Act) has already ...  False"
      ]
     },
     "execution_count": 4,
     "metadata": {},
     "output_type": "execute_result"
    }
   ],
   "source": [
    "train_df.head(15)"
   ]
  },
  {
   "cell_type": "code",
   "execution_count": 5,
   "metadata": {
    "execution": {
     "iopub.execute_input": "2021-05-25T06:50:32.091153Z",
     "iopub.status.busy": "2021-05-25T06:50:32.090847Z",
     "iopub.status.idle": "2021-05-25T06:50:32.104756Z",
     "shell.execute_reply": "2021-05-25T06:50:32.10363Z",
     "shell.execute_reply.started": "2021-05-25T06:50:32.091126Z"
    }
   },
   "outputs": [],
   "source": [
    "# train_df = train_df.drop(\"author\", axis = 1)\n",
    "# train_df = train_df.drop(\"title\", axis = 1)\n",
    "# train_df = train_df.drop(\"id\", axis = 1)"
   ]
  },
  {
   "cell_type": "code",
   "execution_count": 6,
   "metadata": {
    "execution": {
     "iopub.execute_input": "2021-05-25T06:50:32.10674Z",
     "iopub.status.busy": "2021-05-25T06:50:32.106434Z",
     "iopub.status.idle": "2021-05-25T06:50:32.120541Z",
     "shell.execute_reply": "2021-05-25T06:50:32.119386Z",
     "shell.execute_reply.started": "2021-05-25T06:50:32.106712Z"
    }
   },
   "outputs": [
    {
     "data": {
      "text/plain": [
       "(10240, 2)"
      ]
     },
     "execution_count": 6,
     "metadata": {},
     "output_type": "execute_result"
    }
   ],
   "source": [
    "train_df.shape"
   ]
  },
  {
   "cell_type": "code",
   "execution_count": 7,
   "metadata": {
    "execution": {
     "iopub.execute_input": "2021-05-25T06:50:32.124489Z",
     "iopub.status.busy": "2021-05-25T06:50:32.12414Z",
     "iopub.status.idle": "2021-05-25T06:50:32.140229Z",
     "shell.execute_reply": "2021-05-25T06:50:32.139288Z",
     "shell.execute_reply.started": "2021-05-25T06:50:32.124461Z"
    }
   },
   "outputs": [
    {
     "data": {
      "text/html": [
       "<div>\n",
       "<style scoped>\n",
       "    .dataframe tbody tr th:only-of-type {\n",
       "        vertical-align: middle;\n",
       "    }\n",
       "\n",
       "    .dataframe tbody tr th {\n",
       "        vertical-align: top;\n",
       "    }\n",
       "\n",
       "    .dataframe thead th {\n",
       "        text-align: right;\n",
       "    }\n",
       "</style>\n",
       "<table border=\"1\" class=\"dataframe\">\n",
       "  <thead>\n",
       "    <tr style=\"text-align: right;\">\n",
       "      <th></th>\n",
       "      <th>Statement</th>\n",
       "      <th>Label</th>\n",
       "    </tr>\n",
       "  </thead>\n",
       "  <tbody>\n",
       "    <tr>\n",
       "      <th>0</th>\n",
       "      <td>Says the Annies List political group supports ...</td>\n",
       "      <td>False</td>\n",
       "    </tr>\n",
       "    <tr>\n",
       "      <th>1</th>\n",
       "      <td>When did the decline of coal start? It started...</td>\n",
       "      <td>True</td>\n",
       "    </tr>\n",
       "    <tr>\n",
       "      <th>2</th>\n",
       "      <td>Hillary Clinton agrees with John McCain \"by vo...</td>\n",
       "      <td>True</td>\n",
       "    </tr>\n",
       "    <tr>\n",
       "      <th>3</th>\n",
       "      <td>Health care reform legislation is likely to ma...</td>\n",
       "      <td>False</td>\n",
       "    </tr>\n",
       "    <tr>\n",
       "      <th>4</th>\n",
       "      <td>The economic turnaround started at the end of ...</td>\n",
       "      <td>True</td>\n",
       "    </tr>\n",
       "    <tr>\n",
       "      <th>5</th>\n",
       "      <td>The Chicago Bears have had more starting quart...</td>\n",
       "      <td>True</td>\n",
       "    </tr>\n",
       "    <tr>\n",
       "      <th>6</th>\n",
       "      <td>Jim Dunnam has not lived in the district he re...</td>\n",
       "      <td>False</td>\n",
       "    </tr>\n",
       "    <tr>\n",
       "      <th>7</th>\n",
       "      <td>I'm the only person on this stage who has work...</td>\n",
       "      <td>True</td>\n",
       "    </tr>\n",
       "    <tr>\n",
       "      <th>8</th>\n",
       "      <td>However, it took $19.5 million in Oregon Lotte...</td>\n",
       "      <td>True</td>\n",
       "    </tr>\n",
       "    <tr>\n",
       "      <th>9</th>\n",
       "      <td>Says GOP primary opponents Glenn Grothman and ...</td>\n",
       "      <td>True</td>\n",
       "    </tr>\n",
       "    <tr>\n",
       "      <th>10</th>\n",
       "      <td>For the first time in history, the share of th...</td>\n",
       "      <td>True</td>\n",
       "    </tr>\n",
       "    <tr>\n",
       "      <th>11</th>\n",
       "      <td>Since 2000, nearly 12 million Americans have s...</td>\n",
       "      <td>True</td>\n",
       "    </tr>\n",
       "    <tr>\n",
       "      <th>12</th>\n",
       "      <td>When Mitt Romney was governor of Massachusetts...</td>\n",
       "      <td>False</td>\n",
       "    </tr>\n",
       "    <tr>\n",
       "      <th>13</th>\n",
       "      <td>The economy bled $24 billion due to the govern...</td>\n",
       "      <td>True</td>\n",
       "    </tr>\n",
       "    <tr>\n",
       "      <th>14</th>\n",
       "      <td>Most of the (Affordable Care Act) has already ...</td>\n",
       "      <td>False</td>\n",
       "    </tr>\n",
       "  </tbody>\n",
       "</table>\n",
       "</div>"
      ],
      "text/plain": [
       "                                            Statement  Label\n",
       "0   Says the Annies List political group supports ...  False\n",
       "1   When did the decline of coal start? It started...   True\n",
       "2   Hillary Clinton agrees with John McCain \"by vo...   True\n",
       "3   Health care reform legislation is likely to ma...  False\n",
       "4   The economic turnaround started at the end of ...   True\n",
       "5   The Chicago Bears have had more starting quart...   True\n",
       "6   Jim Dunnam has not lived in the district he re...  False\n",
       "7   I'm the only person on this stage who has work...   True\n",
       "8   However, it took $19.5 million in Oregon Lotte...   True\n",
       "9   Says GOP primary opponents Glenn Grothman and ...   True\n",
       "10  For the first time in history, the share of th...   True\n",
       "11  Since 2000, nearly 12 million Americans have s...   True\n",
       "12  When Mitt Romney was governor of Massachusetts...  False\n",
       "13  The economy bled $24 billion due to the govern...   True\n",
       "14  Most of the (Affordable Care Act) has already ...  False"
      ]
     },
     "execution_count": 7,
     "metadata": {},
     "output_type": "execute_result"
    }
   ],
   "source": [
    "train_df.head(15)"
   ]
  },
  {
   "cell_type": "code",
   "execution_count": 8,
   "metadata": {
    "execution": {
     "iopub.execute_input": "2021-05-25T06:50:32.144642Z",
     "iopub.status.busy": "2021-05-25T06:50:32.144299Z",
     "iopub.status.idle": "2021-05-25T06:50:32.302296Z",
     "shell.execute_reply": "2021-05-25T06:50:32.301193Z",
     "shell.execute_reply.started": "2021-05-25T06:50:32.144612Z"
    }
   },
   "outputs": [
    {
     "data": {
      "text/plain": [
       "<AxesSubplot:xlabel='Label', ylabel='count'>"
      ]
     },
     "execution_count": 8,
     "metadata": {},
     "output_type": "execute_result"
    },
    {
     "data": {
      "image/png": "[encoded data removed]",
      "text/plain": [
       "<Figure size 432x288 with 1 Axes>"
      ]
     },
     "metadata": {
      "needs_background": "light"
     },
     "output_type": "display_data"
    }
   ],
   "source": [
    "def create_distribution(dataFile):\n",
    "    return sb.countplot(x='Label', data=dataFile, palette='hls')\n",
    "\n",
    "# by calling below we can see that training, test and valid data seems to be failry evenly distributed between the classes\n",
    "create_distribution(train_df)"
   ]
  },
  {
   "cell_type": "code",
   "execution_count": 9,
   "metadata": {
    "execution": {
     "iopub.execute_input": "2021-05-25T06:50:32.306146Z",
     "iopub.status.busy": "2021-05-25T06:50:32.305826Z",
     "iopub.status.idle": "2021-05-25T06:50:32.335357Z",
     "shell.execute_reply": "2021-05-25T06:50:32.33417Z",
     "shell.execute_reply.started": "2021-05-25T06:50:32.306118Z"
    }
   },
   "outputs": [
    {
     "name": "stdout",
     "output_type": "stream",
     "text": [
      "Checking data qualitites...\n",
      "<class 'pandas.core.frame.DataFrame'>\n",
      "RangeIndex: 10240 entries, 0 to 10239\n",
      "Data columns (total 2 columns):\n",
      " #   Column     Non-Null Count  Dtype \n",
      "---  ------     --------------  ----- \n",
      " 0   Statement  10240 non-null  object\n",
      " 1   Label      10240 non-null  bool  \n",
      "dtypes: bool(1), object(1)\n",
      "memory usage: 90.1+ KB\n",
      "check finished.\n"
     ]
    }
   ],
   "source": [
    "def data_qualityCheck():\n",
    "    print(\"Checking data qualitites...\")\n",
    "    train_df.isnull().sum()\n",
    "    train_df.info()  \n",
    "    print(\"check finished.\")\n",
    "data_qualityCheck()"
   ]
  },
  {
   "cell_type": "code",
   "execution_count": 10,
   "metadata": {
    "execution": {
     "iopub.execute_input": "2021-05-25T06:50:32.337061Z",
     "iopub.status.busy": "2021-05-25T06:50:32.336735Z",
     "iopub.status.idle": "2021-05-25T06:50:32.367948Z",
     "shell.execute_reply": "2021-05-25T06:50:32.366933Z",
     "shell.execute_reply.started": "2021-05-25T06:50:32.33703Z"
    }
   },
   "outputs": [],
   "source": [
    "train_df = train_df.dropna()"
   ]
  },
  {
   "cell_type": "code",
   "execution_count": 11,
   "metadata": {
    "execution": {
     "iopub.execute_input": "2021-05-25T06:50:32.369967Z",
     "iopub.status.busy": "2021-05-25T06:50:32.369528Z",
     "iopub.status.idle": "2021-05-25T06:50:32.399296Z",
     "shell.execute_reply": "2021-05-25T06:50:32.398264Z",
     "shell.execute_reply.started": "2021-05-25T06:50:32.369924Z"
    }
   },
   "outputs": [
    {
     "name": "stdout",
     "output_type": "stream",
     "text": [
      "Checking data qualitites...\n",
      "<class 'pandas.core.frame.DataFrame'>\n",
      "Int64Index: 10240 entries, 0 to 10239\n",
      "Data columns (total 2 columns):\n",
      " #   Column     Non-Null Count  Dtype \n",
      "---  ------     --------------  ----- \n",
      " 0   Statement  10240 non-null  object\n",
      " 1   Label      10240 non-null  bool  \n",
      "dtypes: bool(1), object(1)\n",
      "memory usage: 170.0+ KB\n",
      "check finished.\n"
     ]
    }
   ],
   "source": [
    "data_qualityCheck()"
   ]
  },
  {
   "cell_type": "code",
   "execution_count": 12,
   "metadata": {
    "execution": {
     "iopub.execute_input": "2021-05-25T06:50:32.401314Z",
     "iopub.status.busy": "2021-05-25T06:50:32.400868Z",
     "iopub.status.idle": "2021-05-25T06:50:32.407806Z",
     "shell.execute_reply": "2021-05-25T06:50:32.406589Z",
     "shell.execute_reply.started": "2021-05-25T06:50:32.401272Z"
    }
   },
   "outputs": [
    {
     "data": {
      "text/plain": [
       "(10240, 2)"
      ]
     },
     "execution_count": 12,
     "metadata": {},
     "output_type": "execute_result"
    }
   ],
   "source": [
    "train_df.shape"
   ]
  },
  {
   "cell_type": "code",
   "execution_count": 13,
   "metadata": {
    "execution": {
     "iopub.execute_input": "2021-05-25T06:50:32.409912Z",
     "iopub.status.busy": "2021-05-25T06:50:32.409162Z",
     "iopub.status.idle": "2021-05-25T06:50:32.426843Z",
     "shell.execute_reply": "2021-05-25T06:50:32.425727Z",
     "shell.execute_reply.started": "2021-05-25T06:50:32.409868Z"
    }
   },
   "outputs": [
    {
     "data": {
      "text/html": [
       "<div>\n",
       "<style scoped>\n",
       "    .dataframe tbody tr th:only-of-type {\n",
       "        vertical-align: middle;\n",
       "    }\n",
       "\n",
       "    .dataframe tbody tr th {\n",
       "        vertical-align: top;\n",
       "    }\n",
       "\n",
       "    .dataframe thead th {\n",
       "        text-align: right;\n",
       "    }\n",
       "</style>\n",
       "<table border=\"1\" class=\"dataframe\">\n",
       "  <thead>\n",
       "    <tr style=\"text-align: right;\">\n",
       "      <th></th>\n",
       "      <th>Statement</th>\n",
       "      <th>Label</th>\n",
       "    </tr>\n",
       "  </thead>\n",
       "  <tbody>\n",
       "    <tr>\n",
       "      <th>0</th>\n",
       "      <td>Says the Annies List political group supports ...</td>\n",
       "      <td>False</td>\n",
       "    </tr>\n",
       "    <tr>\n",
       "      <th>1</th>\n",
       "      <td>When did the decline of coal start? It started...</td>\n",
       "      <td>True</td>\n",
       "    </tr>\n",
       "    <tr>\n",
       "      <th>2</th>\n",
       "      <td>Hillary Clinton agrees with John McCain \"by vo...</td>\n",
       "      <td>True</td>\n",
       "    </tr>\n",
       "    <tr>\n",
       "      <th>3</th>\n",
       "      <td>Health care reform legislation is likely to ma...</td>\n",
       "      <td>False</td>\n",
       "    </tr>\n",
       "    <tr>\n",
       "      <th>4</th>\n",
       "      <td>The economic turnaround started at the end of ...</td>\n",
       "      <td>True</td>\n",
       "    </tr>\n",
       "    <tr>\n",
       "      <th>5</th>\n",
       "      <td>The Chicago Bears have had more starting quart...</td>\n",
       "      <td>True</td>\n",
       "    </tr>\n",
       "    <tr>\n",
       "      <th>6</th>\n",
       "      <td>Jim Dunnam has not lived in the district he re...</td>\n",
       "      <td>False</td>\n",
       "    </tr>\n",
       "    <tr>\n",
       "      <th>7</th>\n",
       "      <td>I'm the only person on this stage who has work...</td>\n",
       "      <td>True</td>\n",
       "    </tr>\n",
       "    <tr>\n",
       "      <th>8</th>\n",
       "      <td>However, it took $19.5 million in Oregon Lotte...</td>\n",
       "      <td>True</td>\n",
       "    </tr>\n",
       "    <tr>\n",
       "      <th>9</th>\n",
       "      <td>Says GOP primary opponents Glenn Grothman and ...</td>\n",
       "      <td>True</td>\n",
       "    </tr>\n",
       "  </tbody>\n",
       "</table>\n",
       "</div>"
      ],
      "text/plain": [
       "                                           Statement  Label\n",
       "0  Says the Annies List political group supports ...  False\n",
       "1  When did the decline of coal start? It started...   True\n",
       "2  Hillary Clinton agrees with John McCain \"by vo...   True\n",
       "3  Health care reform legislation is likely to ma...  False\n",
       "4  The economic turnaround started at the end of ...   True\n",
       "5  The Chicago Bears have had more starting quart...   True\n",
       "6  Jim Dunnam has not lived in the district he re...  False\n",
       "7  I'm the only person on this stage who has work...   True\n",
       "8  However, it took $19.5 million in Oregon Lotte...   True\n",
       "9  Says GOP primary opponents Glenn Grothman and ...   True"
      ]
     },
     "execution_count": 13,
     "metadata": {},
     "output_type": "execute_result"
    }
   ],
   "source": [
    "train_df.head(10)"
   ]
  },
  {
   "cell_type": "code",
   "execution_count": 14,
   "metadata": {
    "execution": {
     "iopub.execute_input": "2021-05-25T06:50:32.42892Z",
     "iopub.status.busy": "2021-05-25T06:50:32.42853Z",
     "iopub.status.idle": "2021-05-25T06:50:32.433555Z",
     "shell.execute_reply": "2021-05-25T06:50:32.432625Z",
     "shell.execute_reply.started": "2021-05-25T06:50:32.428889Z"
    }
   },
   "outputs": [],
   "source": [
    "train_df.reset_index(drop= True,inplace=True)"
   ]
  },
  {
   "cell_type": "code",
   "execution_count": 15,
   "metadata": {
    "execution": {
     "iopub.execute_input": "2021-05-25T06:50:32.435265Z",
     "iopub.status.busy": "2021-05-25T06:50:32.434781Z",
     "iopub.status.idle": "2021-05-25T06:50:32.454591Z",
     "shell.execute_reply": "2021-05-25T06:50:32.453613Z",
     "shell.execute_reply.started": "2021-05-25T06:50:32.435224Z"
    }
   },
   "outputs": [
    {
     "data": {
      "text/html": [
       "<div>\n",
       "<style scoped>\n",
       "    .dataframe tbody tr th:only-of-type {\n",
       "        vertical-align: middle;\n",
       "    }\n",
       "\n",
       "    .dataframe tbody tr th {\n",
       "        vertical-align: top;\n",
       "    }\n",
       "\n",
       "    .dataframe thead th {\n",
       "        text-align: right;\n",
       "    }\n",
       "</style>\n",
       "<table border=\"1\" class=\"dataframe\">\n",
       "  <thead>\n",
       "    <tr style=\"text-align: right;\">\n",
       "      <th></th>\n",
       "      <th>Statement</th>\n",
       "      <th>Label</th>\n",
       "    </tr>\n",
       "  </thead>\n",
       "  <tbody>\n",
       "    <tr>\n",
       "      <th>0</th>\n",
       "      <td>Says the Annies List political group supports ...</td>\n",
       "      <td>False</td>\n",
       "    </tr>\n",
       "    <tr>\n",
       "      <th>1</th>\n",
       "      <td>When did the decline of coal start? It started...</td>\n",
       "      <td>True</td>\n",
       "    </tr>\n",
       "    <tr>\n",
       "      <th>2</th>\n",
       "      <td>Hillary Clinton agrees with John McCain \"by vo...</td>\n",
       "      <td>True</td>\n",
       "    </tr>\n",
       "    <tr>\n",
       "      <th>3</th>\n",
       "      <td>Health care reform legislation is likely to ma...</td>\n",
       "      <td>False</td>\n",
       "    </tr>\n",
       "    <tr>\n",
       "      <th>4</th>\n",
       "      <td>The economic turnaround started at the end of ...</td>\n",
       "      <td>True</td>\n",
       "    </tr>\n",
       "    <tr>\n",
       "      <th>5</th>\n",
       "      <td>The Chicago Bears have had more starting quart...</td>\n",
       "      <td>True</td>\n",
       "    </tr>\n",
       "    <tr>\n",
       "      <th>6</th>\n",
       "      <td>Jim Dunnam has not lived in the district he re...</td>\n",
       "      <td>False</td>\n",
       "    </tr>\n",
       "    <tr>\n",
       "      <th>7</th>\n",
       "      <td>I'm the only person on this stage who has work...</td>\n",
       "      <td>True</td>\n",
       "    </tr>\n",
       "    <tr>\n",
       "      <th>8</th>\n",
       "      <td>However, it took $19.5 million in Oregon Lotte...</td>\n",
       "      <td>True</td>\n",
       "    </tr>\n",
       "    <tr>\n",
       "      <th>9</th>\n",
       "      <td>Says GOP primary opponents Glenn Grothman and ...</td>\n",
       "      <td>True</td>\n",
       "    </tr>\n",
       "  </tbody>\n",
       "</table>\n",
       "</div>"
      ],
      "text/plain": [
       "                                           Statement  Label\n",
       "0  Says the Annies List political group supports ...  False\n",
       "1  When did the decline of coal start? It started...   True\n",
       "2  Hillary Clinton agrees with John McCain \"by vo...   True\n",
       "3  Health care reform legislation is likely to ma...  False\n",
       "4  The economic turnaround started at the end of ...   True\n",
       "5  The Chicago Bears have had more starting quart...   True\n",
       "6  Jim Dunnam has not lived in the district he re...  False\n",
       "7  I'm the only person on this stage who has work...   True\n",
       "8  However, it took $19.5 million in Oregon Lotte...   True\n",
       "9  Says GOP primary opponents Glenn Grothman and ...   True"
      ]
     },
     "execution_count": 15,
     "metadata": {},
     "output_type": "execute_result"
    }
   ],
   "source": [
    "train_df.head(10)"
   ]
  },
  {
   "cell_type": "code",
   "execution_count": 16,
   "metadata": {
    "execution": {
     "iopub.execute_input": "2021-05-25T06:50:32.457112Z",
     "iopub.status.busy": "2021-05-25T06:50:32.45653Z",
     "iopub.status.idle": "2021-05-25T06:50:32.46346Z",
     "shell.execute_reply": "2021-05-25T06:50:32.461467Z",
     "shell.execute_reply.started": "2021-05-25T06:50:32.457067Z"
    }
   },
   "outputs": [],
   "source": [
    "label_train = train_df.Label"
   ]
  },
  {
   "cell_type": "code",
   "execution_count": 17,
   "metadata": {
    "execution": {
     "iopub.execute_input": "2021-05-25T06:50:32.46513Z",
     "iopub.status.busy": "2021-05-25T06:50:32.46484Z",
     "iopub.status.idle": "2021-05-25T06:50:32.479833Z",
     "shell.execute_reply": "2021-05-25T06:50:32.478601Z",
     "shell.execute_reply.started": "2021-05-25T06:50:32.465102Z"
    }
   },
   "outputs": [
    {
     "data": {
      "text/plain": [
       "0    False\n",
       "1     True\n",
       "2     True\n",
       "3    False\n",
       "4     True\n",
       "5     True\n",
       "6    False\n",
       "7     True\n",
       "8     True\n",
       "9     True\n",
       "Name: Label, dtype: bool"
      ]
     },
     "execution_count": 17,
     "metadata": {},
     "output_type": "execute_result"
    }
   ],
   "source": [
    "label_train.head(10)"
   ]
  },
  {
   "cell_type": "code",
   "execution_count": 18,
   "metadata": {
    "execution": {
     "iopub.execute_input": "2021-05-25T06:50:32.481757Z",
     "iopub.status.busy": "2021-05-25T06:50:32.481439Z",
     "iopub.status.idle": "2021-05-25T06:50:32.493571Z",
     "shell.execute_reply": "2021-05-25T06:50:32.492736Z",
     "shell.execute_reply.started": "2021-05-25T06:50:32.481728Z"
    }
   },
   "outputs": [],
   "source": [
    "train_df = train_df.drop(\"Label\", axis = 1)"
   ]
  },
  {
   "cell_type": "code",
   "execution_count": 19,
   "metadata": {
    "execution": {
     "iopub.execute_input": "2021-05-25T06:50:32.495566Z",
     "iopub.status.busy": "2021-05-25T06:50:32.495116Z",
     "iopub.status.idle": "2021-05-25T06:50:32.513957Z",
     "shell.execute_reply": "2021-05-25T06:50:32.51265Z",
     "shell.execute_reply.started": "2021-05-25T06:50:32.495526Z"
    }
   },
   "outputs": [
    {
     "data": {
      "text/html": [
       "<div>\n",
       "<style scoped>\n",
       "    .dataframe tbody tr th:only-of-type {\n",
       "        vertical-align: middle;\n",
       "    }\n",
       "\n",
       "    .dataframe tbody tr th {\n",
       "        vertical-align: top;\n",
       "    }\n",
       "\n",
       "    .dataframe thead th {\n",
       "        text-align: right;\n",
       "    }\n",
       "</style>\n",
       "<table border=\"1\" class=\"dataframe\">\n",
       "  <thead>\n",
       "    <tr style=\"text-align: right;\">\n",
       "      <th></th>\n",
       "      <th>Statement</th>\n",
       "    </tr>\n",
       "  </thead>\n",
       "  <tbody>\n",
       "    <tr>\n",
       "      <th>0</th>\n",
       "      <td>Says the Annies List political group supports ...</td>\n",
       "    </tr>\n",
       "    <tr>\n",
       "      <th>1</th>\n",
       "      <td>When did the decline of coal start? It started...</td>\n",
       "    </tr>\n",
       "    <tr>\n",
       "      <th>2</th>\n",
       "      <td>Hillary Clinton agrees with John McCain \"by vo...</td>\n",
       "    </tr>\n",
       "    <tr>\n",
       "      <th>3</th>\n",
       "      <td>Health care reform legislation is likely to ma...</td>\n",
       "    </tr>\n",
       "    <tr>\n",
       "      <th>4</th>\n",
       "      <td>The economic turnaround started at the end of ...</td>\n",
       "    </tr>\n",
       "    <tr>\n",
       "      <th>5</th>\n",
       "      <td>The Chicago Bears have had more starting quart...</td>\n",
       "    </tr>\n",
       "    <tr>\n",
       "      <th>6</th>\n",
       "      <td>Jim Dunnam has not lived in the district he re...</td>\n",
       "    </tr>\n",
       "    <tr>\n",
       "      <th>7</th>\n",
       "      <td>I'm the only person on this stage who has work...</td>\n",
       "    </tr>\n",
       "    <tr>\n",
       "      <th>8</th>\n",
       "      <td>However, it took $19.5 million in Oregon Lotte...</td>\n",
       "    </tr>\n",
       "    <tr>\n",
       "      <th>9</th>\n",
       "      <td>Says GOP primary opponents Glenn Grothman and ...</td>\n",
       "    </tr>\n",
       "  </tbody>\n",
       "</table>\n",
       "</div>"
      ],
      "text/plain": [
       "                                           Statement\n",
       "0  Says the Annies List political group supports ...\n",
       "1  When did the decline of coal start? It started...\n",
       "2  Hillary Clinton agrees with John McCain \"by vo...\n",
       "3  Health care reform legislation is likely to ma...\n",
       "4  The economic turnaround started at the end of ...\n",
       "5  The Chicago Bears have had more starting quart...\n",
       "6  Jim Dunnam has not lived in the district he re...\n",
       "7  I'm the only person on this stage who has work...\n",
       "8  However, it took $19.5 million in Oregon Lotte...\n",
       "9  Says GOP primary opponents Glenn Grothman and ..."
      ]
     },
     "execution_count": 19,
     "metadata": {},
     "output_type": "execute_result"
    }
   ],
   "source": [
    "train_df.head(10)"
   ]
  },
  {
   "cell_type": "code",
   "execution_count": 20,
   "metadata": {},
   "outputs": [
    {
     "data": {
      "text/plain": [
       "'Says 94 percent of Wisconsin employers think the state is heading in the right direction and a majority say they will grow their companies in 2012.'"
      ]
     },
     "execution_count": 20,
     "metadata": {},
     "output_type": "execute_result"
    }
   ],
   "source": [
    "train_df['Statement'][2188]"
   ]
  },
  {
   "cell_type": "code",
   "execution_count": 21,
   "metadata": {},
   "outputs": [
    {
     "name": "stderr",
     "output_type": "stream",
     "text": [
      "[nltk_data] Downloading package stopwords to C:\\Users\\Fanuel\n",
      "[nltk_data]     Mulyadi\\AppData\\Roaming\\nltk_data...\n",
      "[nltk_data]   Package stopwords is already up-to-date!\n"
     ]
    },
    {
     "data": {
      "text/plain": [
       "True"
      ]
     },
     "execution_count": 21,
     "metadata": {},
     "output_type": "execute_result"
    }
   ],
   "source": [
    "nltk.download('stopwords')"
   ]
  },
  {
   "cell_type": "code",
   "execution_count": 22,
   "metadata": {
    "execution": {
     "iopub.execute_input": "2021-05-25T06:50:32.51602Z",
     "iopub.status.busy": "2021-05-25T06:50:32.515411Z",
     "iopub.status.idle": "2021-05-25T06:50:32.531829Z",
     "shell.execute_reply": "2021-05-25T06:50:32.530895Z",
     "shell.execute_reply.started": "2021-05-25T06:50:32.515972Z"
    }
   },
   "outputs": [],
   "source": [
    "lemmatizer = WordNetLemmatizer()\n",
    "stpwrds = list(stopwords.words('english'))"
   ]
  },
  {
   "cell_type": "code",
   "execution_count": 23,
   "metadata": {},
   "outputs": [
    {
     "data": {
      "text/plain": [
       "['i',\n",
       " 'me',\n",
       " 'my',\n",
       " 'myself',\n",
       " 'we',\n",
       " 'our',\n",
       " 'ours',\n",
       " 'ourselves',\n",
       " 'you',\n",
       " \"you're\",\n",
       " \"you've\",\n",
       " \"you'll\",\n",
       " \"you'd\",\n",
       " 'your',\n",
       " 'yours',\n",
       " 'yourself',\n",
       " 'yourselves',\n",
       " 'he',\n",
       " 'him',\n",
       " 'his',\n",
       " 'himself',\n",
       " 'she',\n",
       " \"she's\",\n",
       " 'her',\n",
       " 'hers',\n",
       " 'herself',\n",
       " 'it',\n",
       " \"it's\",\n",
       " 'its',\n",
       " 'itself',\n",
       " 'they',\n",
       " 'them',\n",
       " 'their',\n",
       " 'theirs',\n",
       " 'themselves',\n",
       " 'what',\n",
       " 'which',\n",
       " 'who',\n",
       " 'whom',\n",
       " 'this',\n",
       " 'that',\n",
       " \"that'll\",\n",
       " 'these',\n",
       " 'those',\n",
       " 'am',\n",
       " 'is',\n",
       " 'are',\n",
       " 'was',\n",
       " 'were',\n",
       " 'be',\n",
       " 'been',\n",
       " 'being',\n",
       " 'have',\n",
       " 'has',\n",
       " 'had',\n",
       " 'having',\n",
       " 'do',\n",
       " 'does',\n",
       " 'did',\n",
       " 'doing',\n",
       " 'a',\n",
       " 'an',\n",
       " 'the',\n",
       " 'and',\n",
       " 'but',\n",
       " 'if',\n",
       " 'or',\n",
       " 'because',\n",
       " 'as',\n",
       " 'until',\n",
       " 'while',\n",
       " 'of',\n",
       " 'at',\n",
       " 'by',\n",
       " 'for',\n",
       " 'with',\n",
       " 'about',\n",
       " 'against',\n",
       " 'between',\n",
       " 'into',\n",
       " 'through',\n",
       " 'during',\n",
       " 'before',\n",
       " 'after',\n",
       " 'above',\n",
       " 'below',\n",
       " 'to',\n",
       " 'from',\n",
       " 'up',\n",
       " 'down',\n",
       " 'in',\n",
       " 'out',\n",
       " 'on',\n",
       " 'off',\n",
       " 'over',\n",
       " 'under',\n",
       " 'again',\n",
       " 'further',\n",
       " 'then',\n",
       " 'once',\n",
       " 'here',\n",
       " 'there',\n",
       " 'when',\n",
       " 'where',\n",
       " 'why',\n",
       " 'how',\n",
       " 'all',\n",
       " 'any',\n",
       " 'both',\n",
       " 'each',\n",
       " 'few',\n",
       " 'more',\n",
       " 'most',\n",
       " 'other',\n",
       " 'some',\n",
       " 'such',\n",
       " 'no',\n",
       " 'nor',\n",
       " 'not',\n",
       " 'only',\n",
       " 'own',\n",
       " 'same',\n",
       " 'so',\n",
       " 'than',\n",
       " 'too',\n",
       " 'very',\n",
       " 's',\n",
       " 't',\n",
       " 'can',\n",
       " 'will',\n",
       " 'just',\n",
       " 'don',\n",
       " \"don't\",\n",
       " 'should',\n",
       " \"should've\",\n",
       " 'now',\n",
       " 'd',\n",
       " 'll',\n",
       " 'm',\n",
       " 'o',\n",
       " 're',\n",
       " 've',\n",
       " 'y',\n",
       " 'ain',\n",
       " 'aren',\n",
       " \"aren't\",\n",
       " 'couldn',\n",
       " \"couldn't\",\n",
       " 'didn',\n",
       " \"didn't\",\n",
       " 'doesn',\n",
       " \"doesn't\",\n",
       " 'hadn',\n",
       " \"hadn't\",\n",
       " 'hasn',\n",
       " \"hasn't\",\n",
       " 'haven',\n",
       " \"haven't\",\n",
       " 'isn',\n",
       " \"isn't\",\n",
       " 'ma',\n",
       " 'mightn',\n",
       " \"mightn't\",\n",
       " 'mustn',\n",
       " \"mustn't\",\n",
       " 'needn',\n",
       " \"needn't\",\n",
       " 'shan',\n",
       " \"shan't\",\n",
       " 'shouldn',\n",
       " \"shouldn't\",\n",
       " 'wasn',\n",
       " \"wasn't\",\n",
       " 'weren',\n",
       " \"weren't\",\n",
       " 'won',\n",
       " \"won't\",\n",
       " 'wouldn',\n",
       " \"wouldn't\"]"
      ]
     },
     "execution_count": 23,
     "metadata": {},
     "output_type": "execute_result"
    }
   ],
   "source": [
    "stpwrds"
   ]
  },
  {
   "cell_type": "code",
   "execution_count": 24,
   "metadata": {
    "execution": {
     "iopub.execute_input": "2021-05-25T06:50:32.54905Z",
     "iopub.status.busy": "2021-05-25T06:50:32.548517Z",
     "iopub.status.idle": "2021-05-25T06:53:51.648153Z",
     "shell.execute_reply": "2021-05-25T06:53:51.647283Z",
     "shell.execute_reply.started": "2021-05-25T06:50:32.549015Z"
    }
   },
   "outputs": [],
   "source": [
    "# for x in range(len(train_df)) :\n",
    "#     corpus = []\n",
    "#     review = train_df['Statement'][x]\n",
    "#     review = re.sub(r'[^a-zA-Z\\s]', '', review)\n",
    "#     review = review.lower()\n",
    "#     review = nltk.word_tokenize(review)\n",
    "#     for y in review :\n",
    "#         if y not in stpwrds :\n",
    "#             corpus.append(lemmatizer.lemmatize(y))\n",
    "#     review = ' '.join(corpus)\n",
    "#     train_df['Statement'][x] = review      "
   ]
  },
  {
   "cell_type": "code",
   "execution_count": 25,
   "metadata": {
    "execution": {
     "iopub.execute_input": "2021-05-25T07:14:51.798724Z",
     "iopub.status.busy": "2021-05-25T07:14:51.798361Z",
     "iopub.status.idle": "2021-05-25T07:14:51.805617Z",
     "shell.execute_reply": "2021-05-25T07:14:51.804946Z",
     "shell.execute_reply.started": "2021-05-25T07:14:51.798694Z"
    },
    "scrolled": true
   },
   "outputs": [
    {
     "data": {
      "text/plain": [
       "'In New York City, murders are up.'"
      ]
     },
     "execution_count": 25,
     "metadata": {},
     "output_type": "execute_result"
    }
   ],
   "source": [
    "train_df['Statement'][2182]"
   ]
  },
  {
   "cell_type": "code",
   "execution_count": 26,
   "metadata": {
    "execution": {
     "iopub.execute_input": "2021-05-25T07:16:37.152728Z",
     "iopub.status.busy": "2021-05-25T07:16:37.152216Z",
     "iopub.status.idle": "2021-05-25T07:16:37.163059Z",
     "shell.execute_reply": "2021-05-25T07:16:37.161884Z",
     "shell.execute_reply.started": "2021-05-25T07:16:37.152696Z"
    }
   },
   "outputs": [],
   "source": [
    "X_train, X_test, Y_train, Y_test = train_test_split(train_df['Statement'], label_train, test_size=0.3, random_state=1)"
   ]
  },
  {
   "cell_type": "code",
   "execution_count": 27,
   "metadata": {
    "scrolled": true
   },
   "outputs": [
    {
     "data": {
      "text/plain": [
       "3474    SaysBarack Obama voted for the very same langu...\n",
       "6202    Say Apples Tim Cook will not do business with ...\n",
       "5868    A majority of the candidates on this stage hav...\n",
       "7357    Over 300K home owner suicides attributed to fo...\n",
       "9514    Thurbert Baker kept a teen in jail \"who didn't...\n",
       "                              ...                        \n",
       "2895    U.S. Rep. Allen West wants to bring back earma...\n",
       "7813                   On oil drilling off Floridas coast\n",
       "905     Over the last few years, weve put more people ...\n",
       "5192    Latin Americas economy is almost as big as the...\n",
       "235       Says Marco Rubio is the one for an open border.\n",
       "Name: Statement, Length: 7168, dtype: object"
      ]
     },
     "execution_count": 27,
     "metadata": {},
     "output_type": "execute_result"
    }
   ],
   "source": [
    "X_train"
   ]
  },
  {
   "cell_type": "code",
   "execution_count": 28,
   "metadata": {
    "execution": {
     "iopub.execute_input": "2021-05-25T07:17:50.592597Z",
     "iopub.status.busy": "2021-05-25T07:17:50.592095Z",
     "iopub.status.idle": "2021-05-25T07:17:50.598862Z",
     "shell.execute_reply": "2021-05-25T07:17:50.597641Z",
     "shell.execute_reply.started": "2021-05-25T07:17:50.592566Z"
    }
   },
   "outputs": [
    {
     "data": {
      "text/plain": [
       "(7168,)"
      ]
     },
     "execution_count": 28,
     "metadata": {},
     "output_type": "execute_result"
    }
   ],
   "source": [
    "X_train.shape"
   ]
  },
  {
   "cell_type": "code",
   "execution_count": 29,
   "metadata": {
    "execution": {
     "iopub.execute_input": "2021-05-25T07:18:05.89317Z",
     "iopub.status.busy": "2021-05-25T07:18:05.892651Z",
     "iopub.status.idle": "2021-05-25T07:18:05.902743Z",
     "shell.execute_reply": "2021-05-25T07:18:05.901523Z",
     "shell.execute_reply.started": "2021-05-25T07:18:05.893127Z"
    }
   },
   "outputs": [
    {
     "data": {
      "text/plain": [
       "3474     True\n",
       "6202    False\n",
       "5868     True\n",
       "7357    False\n",
       "9514    False\n",
       "        ...  \n",
       "2895    False\n",
       "7813     True\n",
       "905      True\n",
       "5192     True\n",
       "235     False\n",
       "Name: Label, Length: 7168, dtype: bool"
      ]
     },
     "execution_count": 29,
     "metadata": {},
     "output_type": "execute_result"
    }
   ],
   "source": [
    "Y_train"
   ]
  },
  {
   "cell_type": "code",
   "execution_count": 30,
   "metadata": {
    "execution": {
     "iopub.execute_input": "2021-05-25T07:18:10.901469Z",
     "iopub.status.busy": "2021-05-25T07:18:10.901136Z",
     "iopub.status.idle": "2021-05-25T07:18:22.003384Z",
     "shell.execute_reply": "2021-05-25T07:18:22.002314Z",
     "shell.execute_reply.started": "2021-05-25T07:18:10.90144Z"
    }
   },
   "outputs": [],
   "source": [
    "tfidf_v = TfidfVectorizer()\n",
    "tfidf_X_train = tfidf_v.fit_transform(X_train)\n",
    "tfidf_X_test = tfidf_v.transform(X_test)"
   ]
  },
  {
   "cell_type": "code",
   "execution_count": 31,
   "metadata": {
    "execution": {
     "iopub.execute_input": "2021-05-25T07:18:24.321674Z",
     "iopub.status.busy": "2021-05-25T07:18:24.321329Z",
     "iopub.status.idle": "2021-05-25T07:18:24.327063Z",
     "shell.execute_reply": "2021-05-25T07:18:24.325975Z",
     "shell.execute_reply.started": "2021-05-25T07:18:24.321644Z"
    }
   },
   "outputs": [
    {
     "data": {
      "text/plain": [
       "(7168, 10401)"
      ]
     },
     "execution_count": 31,
     "metadata": {},
     "output_type": "execute_result"
    }
   ],
   "source": [
    "tfidf_X_train.shape"
   ]
  },
  {
   "cell_type": "code",
   "execution_count": 32,
   "metadata": {
    "execution": {
     "iopub.execute_input": "2021-05-25T07:18:31.418929Z",
     "iopub.status.busy": "2021-05-25T07:18:31.418573Z",
     "iopub.status.idle": "2021-05-25T07:18:31.427535Z",
     "shell.execute_reply": "2021-05-25T07:18:31.426865Z",
     "shell.execute_reply.started": "2021-05-25T07:18:31.418889Z"
    }
   },
   "outputs": [],
   "source": [
    "def plot_confusion_matrix(cm, classes,\n",
    "                          normalize=False,\n",
    "                          title='Confusion matrix',\n",
    "                          cmap=plt.cm.Blues):\n",
    "    \n",
    "    plt.imshow(cm, interpolation='nearest', cmap=cmap)\n",
    "    plt.title(title)\n",
    "    plt.colorbar()\n",
    "    tick_marks = np.arange(len(classes))\n",
    "    plt.xticks(tick_marks, classes, rotation=45)\n",
    "    plt.yticks(tick_marks, classes)\n",
    "\n",
    "    if normalize:\n",
    "        cm = cm.astype('float') / cm.sum(axis=1)[:, np.newaxis]\n",
    "        print(\"Normalized confusion matrix\")\n",
    "    else:\n",
    "        print('Confusion matrix, without normalization')\n",
    "\n",
    "    thresh = cm.max() / 2.\n",
    "    for i, j in itertools.product(range(cm.shape[0]), range(cm.shape[1])):\n",
    "        plt.text(j, i, cm[i, j],\n",
    "                 horizontalalignment=\"center\",\n",
    "                 color=\"white\" if cm[i, j] > thresh else \"black\")\n",
    "\n",
    "    plt.tight_layout()\n",
    "    plt.ylabel('True label')\n",
    "    plt.xlabel('Predicted label')"
   ]
  },
  {
   "cell_type": "code",
   "execution_count": 33,
   "metadata": {
    "execution": {
     "iopub.execute_input": "2021-05-25T07:18:36.942583Z",
     "iopub.status.busy": "2021-05-25T07:18:36.942Z",
     "iopub.status.idle": "2021-05-25T07:18:37.23373Z",
     "shell.execute_reply": "2021-05-25T07:18:37.233Z",
     "shell.execute_reply.started": "2021-05-25T07:18:36.942549Z"
    }
   },
   "outputs": [
    {
     "data": {
      "text/plain": [
       "PassiveAggressiveClassifier()"
      ]
     },
     "execution_count": 33,
     "metadata": {},
     "output_type": "execute_result"
    }
   ],
   "source": [
    "classifier = PassiveAggressiveClassifier()\n",
    "classifier.fit(tfidf_X_train,Y_train)"
   ]
  },
  {
   "cell_type": "code",
   "execution_count": 34,
   "metadata": {
    "execution": {
     "iopub.execute_input": "2021-05-25T07:18:41.422338Z",
     "iopub.status.busy": "2021-05-25T07:18:41.421887Z",
     "iopub.status.idle": "2021-05-25T07:18:41.673492Z",
     "shell.execute_reply": "2021-05-25T07:18:41.672498Z",
     "shell.execute_reply.started": "2021-05-25T07:18:41.422308Z"
    }
   },
   "outputs": [
    {
     "name": "stdout",
     "output_type": "stream",
     "text": [
      "Accuracy: 56.05%\n",
      "Confusion matrix, without normalization\n"
     ]
    },
    {
     "data": {
      "image/png": "[encoded data removed]",
      "text/plain": [
       "<Figure size 432x288 with 2 Axes>"
      ]
     },
     "metadata": {
      "needs_background": "light"
     },
     "output_type": "display_data"
    }
   ],
   "source": [
    "Y_pred = classifier.predict(tfidf_X_test)\n",
    "score = metrics.accuracy_score(Y_test, Y_pred)\n",
    "print(f'Accuracy: {round(score*100,2)}%')\n",
    "cm = metrics.confusion_matrix(Y_test, Y_pred)\n",
    "plot_confusion_matrix(cm, classes=['FAKE Data', 'REAL Data'])"
   ]
  },
  {
   "cell_type": "code",
   "execution_count": 35,
   "metadata": {
    "execution": {
     "iopub.execute_input": "2021-05-25T07:47:25.718988Z",
     "iopub.status.busy": "2021-05-25T07:47:25.718614Z",
     "iopub.status.idle": "2021-05-25T07:47:25.723756Z",
     "shell.execute_reply": "2021-05-25T07:47:25.722952Z",
     "shell.execute_reply.started": "2021-05-25T07:47:25.718959Z"
    }
   },
   "outputs": [],
   "source": [
    "# pickle.dump(classifier,open('./model.pkl', 'wb'))"
   ]
  },
  {
   "cell_type": "code",
   "execution_count": 36,
   "metadata": {
    "execution": {
     "iopub.execute_input": "2021-05-25T07:47:30.821844Z",
     "iopub.status.busy": "2021-05-25T07:47:30.821333Z",
     "iopub.status.idle": "2021-05-25T07:47:30.825935Z",
     "shell.execute_reply": "2021-05-25T07:47:30.824983Z",
     "shell.execute_reply.started": "2021-05-25T07:47:30.821811Z"
    }
   },
   "outputs": [],
   "source": [
    "# load the model from disk\n",
    "# loaded_model = pickle.load(open('./model.pkl', 'rb'))"
   ]
  },
  {
   "cell_type": "code",
   "execution_count": 37,
   "metadata": {
    "execution": {
     "iopub.execute_input": "2021-05-25T08:03:34.889218Z",
     "iopub.status.busy": "2021-05-25T08:03:34.888860Z",
     "iopub.status.idle": "2021-05-25T08:03:34.895792Z",
     "shell.execute_reply": "2021-05-25T08:03:34.894703Z",
     "shell.execute_reply.started": "2021-05-25T08:03:34.889189Z"
    }
   },
   "outputs": [],
   "source": [
    "# def fake_news_det(news):\n",
    "#     review = news\n",
    "#     review = re.sub(r'[^a-zA-Z\\s]', '', review)\n",
    "#     review = review.lower()\n",
    "#     review = nltk.word_tokenize(review)\n",
    "#     for y in review :\n",
    "#         if y not in stpwrds :\n",
    "#             corpus.append(lemmatizer.lemmatize(y))     \n",
    "#     input_data = [' '.join(corpus)]\n",
    "#     vectorized_input_data = tfidf_v.transform(input_data)\n",
    "#     prediction = loaded_model.predict(vectorized_input_data)\n",
    "#     if prediction[0] == 0:\n",
    "#         print(\"Prediction of the News :  Looking Fake⚠ News📰 \")\n",
    "#     else:\n",
    "#         print(\"Prediction of the News : Looking Real News📰 \")"
   ]
  },
  {
   "cell_type": "code",
   "execution_count": null,
   "metadata": {},
   "outputs": [],
   "source": []
  }
 ],
 "metadata": {
  "kernelspec": {
   "display_name": "Python 3",
   "language": "python",
   "name": "python3"
  },
  "language_info": {
   "codemirror_mode": {
    "name": "ipython",
    "version": 3
   },
   "file_extension": ".py",
   "mimetype": "text/x-python",
   "name": "python",
   "nbconvert_exporter": "python",
   "pygments_lexer": "ipython3",
   "version": "3.9.2"
  },
  "vscode": {
   "interpreter": {
    "hash": "c14ec1ff20024394eaa7f69ecfc1d739ba98639cea1d27c221d0824174408399"
   }
  }
 },
 "nbformat": 4,
 "nbformat_minor": 4
}
